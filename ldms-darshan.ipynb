{
 "cells": [
  {
   "cell_type": "markdown",
   "metadata": {},
   "source": [
    "# [Darshan-LDMS Integrator](https://ovis-hpc.readthedocs.io/en/latest/ldms/ldms-streams.html#darshans)\n",
    "\n",
    "### A **framework** that integrates Darshan + LDMS to provide low-latency monitoring of I/O events during runtime. \n",
    "\n",
    "- **[Darshan](https://www.mcs.anl.gov/research/projects/darshan/)**: a lightweight I/O characterization tool used to capture I/O access information in memory during the execution of HPC applications. After a job running with Darshan finishes executing, Darshan merges I/O data from all processes and generates a profile document and, optionally, also a trace file.\n",
    "\n",
    "- **[Lightweight Distributed Metric Service (LDMS)](https://ovis-hpc.readthedocs.io/en/latest/ldms/ldms-quickstart.html)**: a low-overhead production monitoring system for HPC machines. It has the capability to collect, transport, aggregate and store timeseries data during runtime. Example of system performance metrics collected are CPU, memory, power, and storage.\n",
    "\n",
    "![Darshan-LDMS Integration](newdarshanconnector.jpg)\n",
    "\n",
    "### Main benefits\n",
    "\n",
    "- Collecting system and I/O traces at the same time in a **single file**\n",
    "- Data is monitored and recorded continuously **throughout the execution of the program** (as opposed to only aggregating the data at the end of execution)\n",
    "- Captures **absolute time-series data** with high precision: can be used to correlate application-specific events with system utilization activities\n",
    "- Captures read/write/**close/open/flushes**\n",
    "- Captures POSIX, MPI-IO and stdio, distinguishing between **STDIN/STDOUT/STDERR** \n",
    "- Stores all application processes in **JSON or CSV** format, which facilitates processing by most data analysis tools\n",
    "- No changes in the code necessary\n",
    "\n",
    "### Output\n",
    "\n",
    "It captures metrics with information about the job, I/O operations and timestamp:\n",
    "\n",
    "![Metrics](metrics.png)\n",
    "\n",
    "An example of the data collected in CSV:\n"
   ]
  },
  {
   "cell_type": "code",
   "execution_count": 5,
   "metadata": {},
   "outputs": [
    {
     "name": "stdout",
     "output_type": "stream",
     "text": [
      "uid,exe,job_id,rank,ProducerName,file,record_id,module,type,max_byte,switches,flushes,cnt,op,pt_sel,irreg_hslab,reg_hslab,ndims,npoints,off,len,start,dur,total,timestamp\n",
      "12345,/projects/ovis/darshanConnector/apps/rhel9.7/ior/build/bin/ior,19047177,0,n1119,<STDIN>,9.22337E+18,STDIO,MET,-1,-1,-1,1,open,-1,-1,-1,-1,-1,-1,-1,0,0,0,1713585247.463272\n",
      "12345,/projects/ovis/darshanConnector/apps/rhel9.7/ior/build/bin/ior,19047177,0,n1119,<STDOUT>,9.22337E+18,STDIO,MET,-1,-1,-1,1,open,-1,-1,-1,-1,-1,-1,-1,0,0,0,1713585247.463272\n",
      "12345,/projects/ovis/darshanConnector/apps/rhel9.7/ior/build/bin/ior,19047177,0,n1119,<STDERR>,7.23826E+18,STDIO,MET,-1,-1,-1,1,open,-1,-1,-1,-1,-1,-1,-1,0,0,0,1713585247.463272\n",
      "12345,N/A,19047177,0,n1119,N/A,9.22337E+18,STDIO,MOD,51,-1,0,1,write,-1,-1,-1,-1,-1,0,52,0.067659,0.000004,0.000004,1713585247.530934\n"
     ]
    }
   ],
   "source": [
    "!head -n5 ./darshan-ldms-output/19047177-IOR_pscratch_32_none.csv"
   ]
  },
  {
   "cell_type": "markdown",
   "metadata": {},
   "source": [
    "# Use cases\n",
    "\n",
    "Let's explore some benefits of Darshan-LDMS. We run the same experiment setup for the [IOR benchmark](https://github.com/hpc/ior) using 36 ranks, for 2 tasks (iterations), block size of 16MB, and transfer size of 4MB, for 32 segments, with Lustre file system running in the Eclipse system.\n",
    "\n",
    "*$ ./ior -i 2 -b 16m -t 4m -s 32 -F -C -e -k -o /pscratch/user/iorTest/darshan*\n",
    "\n",
    "\n",
    "### Collecting read/write/open/closes with absolute timestamps\n",
    "\n",
    "With the Darshan-LDMS data we can identify the occurence of opens and closes and how ranks behaved differently in the system at different times.\n",
    "\n",
    "![Darshan-LDMS Integration](ior1.png) \n",
    "![Darshan-LDMS Integration](ior3.png)\n",
    "\n",
    "### Comparing multiple iterations of the same I/O pattern\n",
    "\n",
    "We can also compare multiple iterations of the same tasks and identify synchronization points not caused by writes or reads.\n",
    "\n",
    "![Darshan-LDMS Integration](ior-repetitions.png) \n",
    "![Daration](ior-repetitions2.png) \n",
    "\n",
    "## Correlating timeseries data with unexpected system behavior\n",
    "\n",
    "We can identify undexpected behavior in real time, and impact on each individual event as opposite to aggregated data at the end of the execution. Absolute timestamps can be used to correlate with other system metrics and identify bottlenecks at a deeper level: \n",
    "\n",
    "![Stressors](stressors.png) \n",
    "![Stressors](stressors2.png) \n",
    "\n",
    "\n",
    "## Displaying results in dashboards\n",
    "\n",
    "Sharing results in dashboards such as Grafana in real time.\n",
    "\n",
    "![Dashboard](dashboard.png) \n",
    "\n"
   ]
  },
  {
   "cell_type": "markdown",
   "metadata": {},
   "source": [
    "# Supporting material\n",
    "\n",
    "### Video tutorial \n",
    "\n",
    "- [Darshan-LDMS introduction and examples](x)\n",
    "- [IOR Demostration](https://drive.google.com/file/d/13KTiYS-uq81jH0zdSaCA8_z6Ql-DV-uI/view?usp=sharing) We showcase running an IOR application on a Sandia HPC machine, with the collected I/O data being visualized in real-time on a Grafana dashboard.\n",
    "- Installation and collection in an AWS cloud instance for [single node](https://drive.google.com/file/d/1xFmOxJpRhOOWyEAMkv6fxEGIFoTA4_YZ/view?usp=sharing) and [multi-node.](https://drive.google.com/file/d/1kucLEIjtf3sB74HQ26iXd71TRH37eAOQ/view?usp=sharing)\n",
    "\n",
    "### Others\n",
    "- Documentation: https://ovis-hpc.readthedocs.io/projects/ldms/en/latest/streams/ldms_stream_apps.html#darshan\n",
    "- Available in Darshan>=3.4.5: https://www.mcs.anl.gov/research/projects/darshan/download/\n",
    "- Cite: *S. Walton, O. Aaziz, A. L. V. Solórzano and B. Schwaller, [\"LDMS Darshan Connector: For Run Time Diagnosis of HPC Application I/O Performance\"](https://ieeexplore.ieee.org/abstract/document/9912673), 2022 HPCMASPA Workshop, IEEE International Conference on Cluster Computing (CLUSTER), Heidelberg, Germany, 2022*\n",
    "\n",
    "***\n",
    "_In collaboration between:_\n",
    "\n",
    "_- Northeastern University: Ana Solórzano, Devesh Tiwari_\n",
    "\n",
    "_- Sandia National Laboratories: Sara Walton, Benjamin Schwaller, Jim M. Brandt, Evan Donato, Jen Green_"
   ]
  }
 ],
 "metadata": {
  "kernelspec": {
   "display_name": "Python 3 (ipykernel)",
   "language": "python",
   "name": "python3"
  },
  "language_info": {
   "codemirror_mode": {
    "name": "ipython",
    "version": 3
   },
   "file_extension": ".py",
   "mimetype": "text/x-python",
   "name": "python",
   "nbconvert_exporter": "python",
   "pygments_lexer": "ipython3",
   "version": "3.8.10"
  },
  "vscode": {
   "interpreter": {
    "hash": "e7370f93d1d0cde622a1f8e1c04877d8463912d04d973331ad4851f04de6915a"
   }
  }
 },
 "nbformat": 4,
 "nbformat_minor": 4
}
